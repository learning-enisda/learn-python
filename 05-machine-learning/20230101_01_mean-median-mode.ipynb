{
 "cells": [
  {
   "cell_type": "code",
   "execution_count": 1,
   "metadata": {},
   "outputs": [],
   "source": [
    "# import modul yang diperlukan\n",
    "\n",
    "import numpy\n",
    "\n",
    "from scipy import stats"
   ]
  },
  {
   "cell_type": "code",
   "execution_count": 2,
   "metadata": {},
   "outputs": [],
   "source": [
    "# array yang diperlukan untuk perhitungan\n",
    "\n",
    "car_speed = [99,86,87,88,111,86,103,87,94,78,77,85,86]"
   ]
  },
  {
   "cell_type": "code",
   "execution_count": 3,
   "metadata": {},
   "outputs": [
    {
     "name": "stdout",
     "output_type": "stream",
     "text": [
      "nilai mean dari array diatas adalah : 89.76923076923077\n"
     ]
    }
   ],
   "source": [
    "# MEAN\n",
    "# The mean value is the average value\n",
    "\n",
    "# perhitungan mean menggunakan modul dari numpy\n",
    "mean = numpy.mean(car_speed)\n",
    "\n",
    "print(\"nilai mean dari array diatas adalah :\",(mean))"
   ]
  },
  {
   "cell_type": "code",
   "execution_count": 4,
   "metadata": {},
   "outputs": [
    {
     "name": "stdout",
     "output_type": "stream",
     "text": [
      "nilai median dari array diatas adalah : 87.0\n"
     ]
    }
   ],
   "source": [
    "# MEDIAN\n",
    "# The median value is the value in the middle\n",
    "\n",
    "median = numpy.median(car_speed)\n",
    "\n",
    "print(\"nilai median dari array diatas adalah :\", (median))"
   ]
  },
  {
   "cell_type": "code",
   "execution_count": 5,
   "metadata": {},
   "outputs": [
    {
     "name": "stdout",
     "output_type": "stream",
     "text": [
      "nilai mode dari array diatas adalah : ModeResult(mode=array([86]), count=array([3]))\n"
     ]
    },
    {
     "name": "stderr",
     "output_type": "stream",
     "text": [
      "/tmp/ipykernel_19358/1405427833.py:4: FutureWarning: Unlike other reduction functions (e.g. `skew`, `kurtosis`), the default behavior of `mode` typically preserves the axis it acts along. In SciPy 1.11.0, this behavior will change: the default value of `keepdims` will become False, the `axis` over which the statistic is taken will be eliminated, and the value None will no longer be accepted. Set `keepdims` to True or False to avoid this warning.\n",
      "  mode = stats.mode(car_speed)\n"
     ]
    }
   ],
   "source": [
    "# MODE\n",
    "# The Mode value is the value that appears the most number of times\n",
    "\n",
    "mode = stats.mode(car_speed)\n",
    "\n",
    "print(\"nilai mode dari array diatas adalah :\", (mode))"
   ]
  }
 ],
 "metadata": {
  "kernelspec": {
   "display_name": "Python 3",
   "language": "python",
   "name": "python3"
  },
  "language_info": {
   "codemirror_mode": {
    "name": "ipython",
    "version": 3
   },
   "file_extension": ".py",
   "mimetype": "text/x-python",
   "name": "python",
   "nbconvert_exporter": "python",
   "pygments_lexer": "ipython3",
   "version": "3.8.10"
  },
  "orig_nbformat": 4,
  "vscode": {
   "interpreter": {
    "hash": "916dbcbb3f70747c44a77c7bcd40155683ae19c65e1c03b4aa3499c5328201f1"
   }
  }
 },
 "nbformat": 4,
 "nbformat_minor": 2
}
