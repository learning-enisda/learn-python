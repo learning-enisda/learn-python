{
 "cells": [
  {
   "attachments": {},
   "cell_type": "markdown",
   "metadata": {},
   "source": [
    "# Machine Learning - Standard Deviation\n",
    "\n",
    "## Apa itu Deviasi Standar?\n",
    "   - Deviasi standar adalah angka yang menggambarkan seberapa tersebarnya nilai.\n",
    "   - Deviasi standar yang rendah berarti bahwa sebagian besar angka mendekati nilai mean (rata-rata).\n",
    "   - Deviasi standar yang tinggi berarti bahwa nilai-nilai tersebar dalam rentang yang lebih luas.\n",
    "\n",
    "### Contoh: \n",
    "Kali ini kita telah mendaftarkan kecepatan 7 mobil:\n",
    "\n",
    "```\n",
    "speed = [86,87,88,86,87,85,86]\n",
    "```\n",
    "\n",
    "Deviasi standar adalah:\n",
    "\n",
    "```\n",
    "0.9\n",
    "```\n",
    "\n",
    "Berarti bahwa sebagian besar nilai berada dalam kisaran 0,9 dari nilai rata-rata, yaitu 86,4.\n",
    "\n",
    "Mari kita lakukan hal yang sama dengan pilihan angka-angka dengan kisaran yang lebih luas:\n",
    "\n",
    "```\n",
    "kecepatan = [32,111,138,28,59,77,97]\n",
    "```\n",
    "\n",
    "Deviasi standarnya adalah:\n",
    "\n",
    "```\n",
    "37.85\n",
    "```\n",
    "\n",
    "Berarti bahwa sebagian besar nilai berada dalam kisaran 37,85 dari nilai rata-rata, yaitu ```77,4```\n",
    "\n",
    "Seperti yang Anda lihat, deviasi standar yang lebih tinggi mengindikasikan bahwa nilai tersebar dalam rentang yang lebih luas.\n",
    "\n",
    "Modul NumPy memiliki metode untuk menghitung deviasi standar:"
   ]
  },
  {
   "cell_type": "code",
   "execution_count": 5,
   "metadata": {},
   "outputs": [
    {
     "name": "stdout",
     "output_type": "stream",
     "text": [
      "standar deviasi dari 2array diatas adalah : 0.9035079029052513\n"
     ]
    }
   ],
   "source": [
    "# import module\n",
    "\n",
    "import numpy\n",
    "\n",
    "car_speed = [86,87,88,86,87,85,86]\n",
    "\n",
    "deviasi = numpy.std(car_speed)\n",
    "\n",
    "print(\"standar deviasi dari 2array diatas adalah :\", (deviasi))"
   ]
  },
  {
   "attachments": {},
   "cell_type": "markdown",
   "metadata": {},
   "source": [
    "## Variance\n",
    "   - Varians adalah angka lain yang menunjukkan seberapa tersebarnya nilai.\n",
    "   - Bahkan, jika Anda mengambil akar kuadrat dari varians, Anda mendapatkan deviasi standar!\n",
    "   - Atau sebaliknya, jika Anda mengalikan deviasi standar dengan sendirinya, Anda mendapatkan varians!\n",
    "\n",
    "Use the NumPy ```var()``` method to find the variance:"
   ]
  },
  {
   "cell_type": "code",
   "execution_count": 7,
   "metadata": {},
   "outputs": [
    {
     "name": "stdout",
     "output_type": "stream",
     "text": [
      "variasi dari array diatas adalah : 0.8163265306122449\n"
     ]
    }
   ],
   "source": [
    "variasi = numpy.var(car_speed)\n",
    "\n",
    "print(\"variasi dari array diatas adalah :\", variasi)"
   ]
  },
  {
   "attachments": {},
   "cell_type": "markdown",
   "metadata": {},
   "source": [
    "## Symbols\n",
    "   - Standard Deviation is often represented by the symbol Sigma: σ\n",
    "   - Variance is often represented by the symbol Sigma Squared: σ2\n",
    "\n",
    "## Chapter Summary\n",
    "Standar Deviasi dan Varians adalah istilah yang sering digunakan dalam Machine Learning, jadi penting untuk memahami cara mendapatkannya, dan konsep di baliknya."
   ]
  }
 ],
 "metadata": {
  "kernelspec": {
   "display_name": "Python 3",
   "language": "python",
   "name": "python3"
  },
  "language_info": {
   "codemirror_mode": {
    "name": "ipython",
    "version": 3
   },
   "file_extension": ".py",
   "mimetype": "text/x-python",
   "name": "python",
   "nbconvert_exporter": "python",
   "pygments_lexer": "ipython3",
   "version": "3.8.10 (default, Nov 14 2022, 12:59:47) \n[GCC 9.4.0]"
  },
  "orig_nbformat": 4,
  "vscode": {
   "interpreter": {
    "hash": "916dbcbb3f70747c44a77c7bcd40155683ae19c65e1c03b4aa3499c5328201f1"
   }
  }
 },
 "nbformat": 4,
 "nbformat_minor": 2
}
